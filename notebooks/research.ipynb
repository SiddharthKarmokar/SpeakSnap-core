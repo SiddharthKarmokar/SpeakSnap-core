{
 "cells": [
  {
   "cell_type": "code",
   "execution_count": 1,
   "id": "d624f7c3",
   "metadata": {},
   "outputs": [
    {
     "data": {
      "text/plain": [
       "'d:\\\\Programming\\\\SpeakSnap-core'"
      ]
     },
     "execution_count": 1,
     "metadata": {},
     "output_type": "execute_result"
    }
   ],
   "source": [
    "import os\n",
    "os.chdir('..')\n",
    "os.getcwd()"
   ]
  },
  {
   "cell_type": "code",
   "execution_count": 2,
   "id": "e5a998ac",
   "metadata": {},
   "outputs": [
    {
     "data": {
      "text/plain": [
       "'d:\\\\Programming\\\\SpeakSnap-core'"
      ]
     },
     "execution_count": 2,
     "metadata": {},
     "output_type": "execute_result"
    }
   ],
   "source": [
    "os.getcwd()"
   ]
  },
  {
   "cell_type": "code",
   "execution_count": 3,
   "id": "fa375f71",
   "metadata": {},
   "outputs": [
    {
     "name": "stdout",
     "output_type": "stream",
     "text": [
      "[2025-05-10 19:34:08,353: INFO: common: json file loaded successfully from: d:\\Programming\\SpeakSnap-core\\Artifacts\\data\\test.json]\n",
      "{'text': \"Hey team, just a quick update from the marketing call earlier today. We're planning to launch the new ad campaign by next Wednesday. Design team needs to finalize creatives by Monday. Also, there's a budget review scheduled for Friday. Please ensure your departmental spending reports are ready by then.\", 'userid': 'abc@123'}\n"
     ]
    }
   ],
   "source": [
    "from pathlib import Path\n",
    "from src.speaksnap.utils.common import load_json\n",
    "\n",
    "path_to_json = Path.cwd() / \"Artifacts\" / \"data\" / \"test.json\"\n",
    "text = load_json(path_to_json)\n",
    "print(text)"
   ]
  },
  {
   "cell_type": "code",
   "execution_count": 4,
   "id": "8fb49017",
   "metadata": {},
   "outputs": [
    {
     "data": {
      "text/plain": [
       "str"
      ]
     },
     "execution_count": 4,
     "metadata": {},
     "output_type": "execute_result"
    }
   ],
   "source": [
    "type(text.text)"
   ]
  },
  {
   "cell_type": "code",
   "execution_count": 5,
   "id": "bbc271c7",
   "metadata": {},
   "outputs": [],
   "source": [
    "from langchain_google_genai import ChatGoogleGenerativeAI\n",
    "from dotenv import load_dotenv\n",
    "load_dotenv()\n",
    "model = ChatGoogleGenerativeAI(model=\"gemini-2.0-flash\")"
   ]
  },
  {
   "cell_type": "code",
   "execution_count": 12,
   "id": "c6b7ae1a",
   "metadata": {},
   "outputs": [],
   "source": [
    "chat_history = [\n",
    "    \"Last week, we discussed pushing the campaign to mid-May, but it seems we're going with next Wednesday now.\",\n",
    "    \"Design team previously had issues with turnaround time. Need to make sure they can meet Monday deadline.\",\n",
    "    \"There was a budget overrun in Q1 — finance might ask tough questions during Friday’s review.\"\n",
    "  ]"
   ]
  },
  {
   "cell_type": "code",
   "execution_count": 7,
   "id": "7ebc7abf",
   "metadata": {},
   "outputs": [
    {
     "name": "stdout",
     "output_type": "stream",
     "text": [
      "messages=[SystemMessage(content='You are a helpful assistant summarizing spoken meetings or conversations.', additional_kwargs={}, response_metadata={}), HumanMessage(content=\"Hey team, just a quick update from the marketing call earlier today. We're planning to launch the new ad campaign by next Wednesday. Design team needs to finalize creatives by Monday. Also, there's a budget review scheduled for Friday. Please ensure your departmental spending reports are ready by then.\", additional_kwargs={}, response_metadata={})]\n"
     ]
    }
   ],
   "source": [
    "from langchain_core.prompts import ChatPromptTemplate, MessagesPlaceholder\n",
    "\n",
    "chat_history = []\n",
    "template = ChatPromptTemplate([\n",
    "    ('system', 'You are a helpful assistant summarizing spoken meetings or conversations.'),\n",
    "    MessagesPlaceholder(variable_name=\"chat_history\"),\n",
    "    ('human', '{query}')\n",
    "])\n",
    "message = template.invoke({\"chat_history\":chat_history, \"query\": text.text})\n",
    "print(message)"
   ]
  },
  {
   "cell_type": "code",
   "execution_count": 8,
   "id": "4445eaf6",
   "metadata": {},
   "outputs": [
    {
     "name": "stdout",
     "output_type": "stream",
     "text": [
      "[2025-05-10 19:34:27,983: INFO: common: json file loaded successfully from: d:\\Programming\\SpeakSnap-core\\data_schema\\response_schema.json]\n"
     ]
    },
    {
     "data": {
      "text/plain": [
       "ConfigBox({'title': 'Summary', 'type': 'object', 'properties': {'summary': {'type': 'string', 'description': 'A brief summary of the text'}, 'sentiment': {'type': 'string', 'enum': ['pos', 'neu', 'neg'], 'description': 'Return the sentiment of the review as positive, neutral or negative'}, 'name': {'type': ['string', 'null'], 'description': \"The speaker's name, if available. Use null if the speaker is unidentified or not mentioned in the text.\"}, 'contextual_explanations': {'type': 'array', 'items': {'type': 'object', 'properties': {'term': {'type': 'string', 'description': 'The special or domain-specific word found in the text use null if unidentified'}, 'explanation': {'type': 'string', 'description': 'A short explanation of what the word or term means in this context'}}, 'required': ['term', 'explanation']}, 'description': 'List of special terms used in the conversation with their brief explanations'}}, 'required': ['summary', 'sentiment']})"
      ]
     },
     "execution_count": 8,
     "metadata": {},
     "output_type": "execute_result"
    }
   ],
   "source": [
    "path_to_schema = Path.cwd() / \"data_schema\" / \"response_schema.json\"\n",
    "model_schema = load_json(path_to_schema)\n",
    "model_schema"
   ]
  },
  {
   "cell_type": "code",
   "execution_count": 9,
   "id": "f06b8c4e",
   "metadata": {},
   "outputs": [],
   "source": [
    "Model = model.with_structured_output(model_schema)"
   ]
  },
  {
   "cell_type": "code",
   "execution_count": 10,
   "id": "fe3c6f97",
   "metadata": {},
   "outputs": [
    {
     "name": "stdout",
     "output_type": "stream",
     "text": [
      "[2025-05-10 19:34:33,386: WARNING: _function_utils: Key 'parameters' is not supported in schema, ignoring]\n"
     ]
    },
    {
     "name": "stdout",
     "output_type": "stream",
     "text": [
      "{'summary': 'Marketing call update: Ad campaign launches next Wednesday. Design team, finalize creatives by Monday. Budget review Friday; departmental spending reports due.', 'sentiment': 'neu', 'contextual_explanations': []}\n"
     ]
    }
   ],
   "source": [
    "result = Model.invoke(message)\n",
    "print(result)"
   ]
  },
  {
   "cell_type": "code",
   "execution_count": 13,
   "id": "fe8b8f5d",
   "metadata": {},
   "outputs": [
    {
     "data": {
      "text/plain": [
       "[\"Last week, we discussed pushing the campaign to mid-May, but it seems we're going with next Wednesday now.\",\n",
       " 'Design team previously had issues with turnaround time. Need to make sure they can meet Monday deadline.',\n",
       " 'There was a budget overrun in Q1 — finance might ask tough questions during Friday’s review.',\n",
       " 'Marketing call update: Ad campaign launches next Wednesday. Design team, finalize creatives by Monday. Budget review Friday; departmental spending reports due.']"
      ]
     },
     "execution_count": 13,
     "metadata": {},
     "output_type": "execute_result"
    }
   ],
   "source": [
    "chat_history.append(result['summary'])\n",
    "chat_history"
   ]
  },
  {
   "cell_type": "code",
   "execution_count": 14,
   "id": "876f47a6",
   "metadata": {},
   "outputs": [
    {
     "data": {
      "text/plain": [
       "\"Last week, we discussed pushing the campaign to mid-May, but it seems we're going with next Wednesday now.Design team previously had issues with turnaround time. Need to make sure they can meet Monday deadline.There was a budget overrun in Q1 — finance might ask tough questions during Friday’s review.Marketing call update: Ad campaign launches next Wednesday. Design team, finalize creatives by Monday. Budget review Friday; departmental spending reports due.\""
      ]
     },
     "execution_count": 14,
     "metadata": {},
     "output_type": "execute_result"
    }
   ],
   "source": [
    "chathistory = \"\"\n",
    "for line in chat_history:\n",
    "    chathistory += line\n",
    "chathistory"
   ]
  },
  {
   "cell_type": "code",
   "execution_count": 15,
   "id": "f05a94df",
   "metadata": {},
   "outputs": [
    {
     "data": {
      "text/plain": [
       "Document(metadata={'userid': 'abc@123'}, page_content=\"Last week, we discussed pushing the campaign to mid-May, but it seems we're going with next Wednesday now.Design team previously had issues with turnaround time. Need to make sure they can meet Monday deadline.There was a budget overrun in Q1 — finance might ask tough questions during Friday’s review.Marketing call update: Ad campaign launches next Wednesday. Design team, finalize creatives by Monday. Budget review Friday; departmental spending reports due.\")"
      ]
     },
     "execution_count": 15,
     "metadata": {},
     "output_type": "execute_result"
    }
   ],
   "source": [
    "from langchain.schema import Document\n",
    "\n",
    "doc = Document(\n",
    "    page_content=chathistory,\n",
    "    metadata={\"userid\":text.userid}\n",
    ")\n",
    "doc"
   ]
  },
  {
   "cell_type": "code",
   "execution_count": 21,
   "id": "21aab8bd",
   "metadata": {},
   "outputs": [
    {
     "name": "stdout",
     "output_type": "stream",
     "text": [
      "[2025-05-10 19:47:31,038: INFO: SentenceTransformer: Use pytorch device_name: cpu]\n",
      "[2025-05-10 19:47:31,039: INFO: SentenceTransformer: Load pretrained SentenceTransformer: all-MiniLM-L6-v2]\n"
     ]
    },
    {
     "name": "stderr",
     "output_type": "stream",
     "text": [
      "C:\\Users\\siddk\\AppData\\Local\\Temp\\ipykernel_16580\\1728591684.py:3: LangChainDeprecationWarning: The class `HuggingFaceEmbeddings` was deprecated in LangChain 0.2.2 and will be removed in 1.0. An updated version of the class exists in the :class:`~langchain-huggingface package and should be used instead. To use it run `pip install -U :class:`~langchain-huggingface` and import as `from :class:`~langchain_huggingface import HuggingFaceEmbeddings``.\n",
      "  embedding_model = HuggingFaceEmbeddings(model_name=\"all-MiniLM-L6-v2\")\n"
     ]
    }
   ],
   "source": [
    "from langchain.embeddings import HuggingFaceEmbeddings\n",
    "\n",
    "embedding_model = HuggingFaceEmbeddings(model_name=\"all-MiniLM-L6-v2\")"
   ]
  },
  {
   "cell_type": "code",
   "execution_count": 23,
   "id": "c1faf98a",
   "metadata": {},
   "outputs": [],
   "source": [
    "from langchain.vectorstores import Chroma\n",
    "\n",
    "vector_store = Chroma(\n",
    "    embedding_function = embedding_model,\n",
    "    persist_directory=\"chroma_db\",\n",
    "    collection_name='sample'\n",
    ")"
   ]
  },
  {
   "cell_type": "code",
   "execution_count": 29,
   "id": "dbc30a39",
   "metadata": {},
   "outputs": [
    {
     "data": {
      "text/plain": [
       "Document(metadata={'userid': 'abc@123'}, page_content=\"Last week, we discussed pushing the campaign to mid-May, but it seems we're going with next Wednesday now.Design team previously had issues with turnaround time. Need to make sure they can meet Monday deadline.There was a budget overrun in Q1 — finance might ask tough questions during Friday’s review.Marketing call update: Ad campaign launches next Wednesday. Design team, finalize creatives by Monday. Budget review Friday; departmental spending reports due.\")"
      ]
     },
     "execution_count": 29,
     "metadata": {},
     "output_type": "execute_result"
    }
   ],
   "source": [
    "doc"
   ]
  },
  {
   "cell_type": "code",
   "execution_count": 32,
   "id": "eceb9731",
   "metadata": {},
   "outputs": [
    {
     "data": {
      "text/plain": [
       "['bec351e3-e1da-4cc4-ace9-0b398a51cce2']"
      ]
     },
     "execution_count": 32,
     "metadata": {},
     "output_type": "execute_result"
    }
   ],
   "source": [
    "vector_store.add_documents([doc])"
   ]
  },
  {
   "cell_type": "code",
   "execution_count": null,
   "id": "94ce66ef",
   "metadata": {},
   "outputs": [
    {
     "data": {
      "text/plain": [
       "[Document(metadata={'userid': 'abc@123'}, page_content=\"Last week, we discussed pushing the campaign to mid-May, but it seems we're going with next Wednesday now.Design team previously had issues with turnaround time. Need to make sure they can meet Monday deadline.There was a budget overrun in Q1 — finance might ask tough questions during Friday’s review.Marketing call update: Ad campaign launches next Wednesday. Design team, finalize creatives by Monday. Budget review Friday; departmental spending reports due.\")]"
      ]
     },
     "execution_count": 33,
     "metadata": {},
     "output_type": "execute_result"
    }
   ],
   "source": [
    "res = vector_store.similarity_search(\n",
    "    query=\"last week\",\n",
    "    filter={\"userid\":text.userid}\n",
    "    k=1\n",
    ")\n",
    "res"
   ]
  },
  {
   "cell_type": "code",
   "execution_count": null,
   "id": "0de0a136",
   "metadata": {},
   "outputs": [],
   "source": [
    "import redis\n",
    "import json\n",
    "\n",
    "r = redis.StrictRedis(host='localhost', port=6379, db=0)\n",
    "\n",
    "def buffer_message(user_id, message):\n",
    "    key = f\"user:{user_id}:buffer\"\n",
    "    # Get current buffer\n",
    "    current = json.loads(r.get(key) or \"[]\")\n",
    "    current.append(message)\n",
    "    r.setex(key, 90, json.dumps(current))  # 900 seconds = 15 mins TTL\n"
   ]
  }
 ],
 "metadata": {
  "kernelspec": {
   "display_name": "Python 3",
   "language": "python",
   "name": "python3"
  },
  "language_info": {
   "codemirror_mode": {
    "name": "ipython",
    "version": 3
   },
   "file_extension": ".py",
   "mimetype": "text/x-python",
   "name": "python",
   "nbconvert_exporter": "python",
   "pygments_lexer": "ipython3",
   "version": "3.13.0"
  }
 },
 "nbformat": 4,
 "nbformat_minor": 5
}
