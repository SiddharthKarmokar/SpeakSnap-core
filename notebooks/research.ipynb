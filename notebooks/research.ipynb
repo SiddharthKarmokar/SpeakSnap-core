{
 "cells": [
  {
   "cell_type": "code",
   "execution_count": 1,
   "id": "d624f7c3",
   "metadata": {},
   "outputs": [
    {
     "data": {
      "text/plain": [
       "'d:\\\\Programming\\\\SpeakSnap-core'"
      ]
     },
     "execution_count": 1,
     "metadata": {},
     "output_type": "execute_result"
    }
   ],
   "source": [
    "import os\n",
    "os.chdir('..')\n",
    "os.getcwd()"
   ]
  },
  {
   "cell_type": "code",
   "execution_count": 8,
   "id": "e5a998ac",
   "metadata": {},
   "outputs": [
    {
     "data": {
      "text/plain": [
       "'d:\\\\Programming\\\\SpeakSnap-core'"
      ]
     },
     "execution_count": 8,
     "metadata": {},
     "output_type": "execute_result"
    }
   ],
   "source": [
    "os.getcwd()"
   ]
  },
  {
   "cell_type": "code",
   "execution_count": 3,
   "id": "fa375f71",
   "metadata": {},
   "outputs": [
    {
     "name": "stdout",
     "output_type": "stream",
     "text": [
      "[2025-05-10 15:43:52,677: INFO: common: json file loaded successfully from: d:\\Programming\\SpeakSnap-core\\Artifacts\\data\\test.json]\n",
      "{'text': \"Hey team, just a quick update from the marketing call earlier today. We're planning to launch the new ad campaign by next Wednesday. Design team needs to finalize creatives by Monday. Also, there's a budget review scheduled for Friday. Please ensure your departmental spending reports are ready by then.\", 'chat_history': [\"Last week, we discussed pushing the campaign to mid-May, but it seems we're going with next Wednesday now.\", 'Design team previously had issues with turnaround time. Need to make sure they can meet Monday deadline.', 'There was a budget overrun in Q1 — finance might ask tough questions during Friday’s review.']}\n"
     ]
    }
   ],
   "source": [
    "from pathlib import Path\n",
    "from src.speaksnap.utils.common import load_json\n",
    "\n",
    "path_to_json = Path.cwd() / \"Artifacts\" / \"data\" / \"test.json\"\n",
    "text = load_json(path_to_json)\n",
    "print(text)"
   ]
  },
  {
   "cell_type": "code",
   "execution_count": 5,
   "id": "8fb49017",
   "metadata": {},
   "outputs": [
    {
     "data": {
      "text/plain": [
       "str"
      ]
     },
     "execution_count": 5,
     "metadata": {},
     "output_type": "execute_result"
    }
   ],
   "source": [
    "type(text.text)"
   ]
  },
  {
   "cell_type": "code",
   "execution_count": null,
   "id": "bbc271c7",
   "metadata": {},
   "outputs": [],
   "source": []
  }
 ],
 "metadata": {
  "kernelspec": {
   "display_name": "Python 3",
   "language": "python",
   "name": "python3"
  },
  "language_info": {
   "codemirror_mode": {
    "name": "ipython",
    "version": 3
   },
   "file_extension": ".py",
   "mimetype": "text/x-python",
   "name": "python",
   "nbconvert_exporter": "python",
   "pygments_lexer": "ipython3",
   "version": "3.13.0"
  }
 },
 "nbformat": 4,
 "nbformat_minor": 5
}
